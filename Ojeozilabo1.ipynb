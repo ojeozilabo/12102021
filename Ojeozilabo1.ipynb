{
  "nbformat": 4,
  "nbformat_minor": 0,
  "metadata": {
    "colab": {
      "name": "Ojeozilabo1.ipynb",
      "provenance": [],
      "collapsed_sections": [],
      "authorship_tag": "ABX9TyPIhRjcGPeor44byGw2dUwH",
      "include_colab_link": true
    },
    "kernelspec": {
      "name": "python3",
      "display_name": "Python 3"
    },
    "language_info": {
      "name": "python"
    }
  },
  "cells": [
    {
      "cell_type": "markdown",
      "metadata": {
        "id": "view-in-github",
        "colab_type": "text"
      },
      "source": [
        "<a href=\"https://colab.research.google.com/github/ojeozilabo/12102021/blob/master/Ojeozilabo1.ipynb\" target=\"_parent\"><img src=\"https://colab.research.google.com/assets/colab-badge.svg\" alt=\"Open In Colab\"/></a>"
      ]
    },
    {
      "cell_type": "code",
      "metadata": {
        "id": "4OebZ0TrUn4H"
      },
      "source": [
        "import datetime"
      ],
      "execution_count": null,
      "outputs": []
    },
    {
      "cell_type": "code",
      "metadata": {
        "colab": {
          "base_uri": "https://localhost:8080/"
        },
        "id": "9xqBA3SuUwrB",
        "outputId": "9ace8564-b1f3-4104-e3c4-5b299ced75cc"
      },
      "source": [
        "name=input(\"Enter your name :\")  \n",
        "age=int(input(\"Enter your age : \"))\n",
        "year =int(input('Enter your birth year :'))\n",
        "month =int(input('Enter your birth month :'))\n",
        "day =int(input('Enter your birth day :'))  \n",
        "dob = datetime.date(year, month, day)  \n",
        "print('Name :',name)\n",
        "print('Age :',age)\n",
        "print('DOB :',dob)\n",
        "\n"
      ],
      "execution_count": null,
      "outputs": [
        {
          "output_type": "stream",
          "name": "stdout",
          "text": [
            "Enter your name :Adeoye\n",
            "Enter your age : 38\n",
            "Enter your birth year :1983\n",
            "Enter your birth month :10\n",
            "Enter your birth day :16\n",
            "Name : Adeoye\n",
            "Age : 38\n",
            "DOB : 1983-10-16\n"
          ]
        }
      ]
    },
    {
      "cell_type": "code",
      "metadata": {
        "colab": {
          "base_uri": "https://localhost:8080/"
        },
        "id": "M2aH1kDLZ9eX",
        "outputId": "f41f2edd-13f2-4618-f477-7e963919a6d2"
      },
      "source": [
        "name = input(\"Enter name: \")\n",
        "age = input(\"Enter age: \")\n",
        "print(\"Hi, my name is \" + name + \", and I am \" + age + \" years old.\")\n"
      ],
      "execution_count": null,
      "outputs": [
        {
          "output_type": "stream",
          "name": "stdout",
          "text": [
            "Enter name: Adeoye\n",
            "Enter age: 38\n",
            "Hi, my name is Adeoye, and I am 38 years old.\n"
          ]
        }
      ]
    },
    {
      "cell_type": "code",
      "metadata": {
        "id": "6ZAFLOXkUlAI"
      },
      "source": [
        "year = 2021"
      ],
      "execution_count": null,
      "outputs": []
    },
    {
      "cell_type": "code",
      "metadata": {
        "colab": {
          "base_uri": "https://localhost:8080/"
        },
        "id": "DYiUQky-aVn6",
        "outputId": "e6b58e59-ed9f-4913-acc1-9dcb6af9db11"
      },
      "source": [
        "DOB = year - age\n",
        "DOB"
      ],
      "execution_count": null,
      "outputs": [
        {
          "output_type": "execute_result",
          "data": {
            "text/plain": [
              "1983"
            ]
          },
          "metadata": {},
          "execution_count": 77
        }
      ]
    },
    {
      "cell_type": "code",
      "metadata": {
        "colab": {
          "base_uri": "https://localhost:8080/"
        },
        "id": "g9xb2hxYBWk-",
        "outputId": "6033eb11-4eb6-4b80-bd80-da1873652d0f"
      },
      "source": [
        "age = 38\n",
        "if (age <=1): \n",
        "  group = \"infants\"\n",
        "elif (age >=1) & (age <=11):\n",
        "  group = \"Children\"\n",
        "elif (age >=11) & (age <=18):\n",
        "  group = \"Teens\"\n",
        "elif (age >=18) & (age <=65):\n",
        "  group = \"Adults\"\n",
        "else:\n",
        "  group = \"older Adult\"\n",
        "print(group)\n"
      ],
      "execution_count": null,
      "outputs": [
        {
          "output_type": "stream",
          "name": "stdout",
          "text": [
            "Adults\n"
          ]
        }
      ]
    },
    {
      "cell_type": "code",
      "metadata": {
        "id": "-Dl-QWi_NkQj"
      },
      "source": [
        "dec_ago = age - 10"
      ],
      "execution_count": null,
      "outputs": []
    },
    {
      "cell_type": "code",
      "metadata": {
        "colab": {
          "base_uri": "https://localhost:8080/"
        },
        "id": "8Z7Pu7jtNkJb",
        "outputId": "3b1135be-38e8-4a10-fc46-de62b848d87b"
      },
      "source": [
        "dec_ago"
      ],
      "execution_count": null,
      "outputs": [
        {
          "output_type": "execute_result",
          "data": {
            "text/plain": [
              "28"
            ]
          },
          "metadata": {},
          "execution_count": 83
        }
      ]
    },
    {
      "cell_type": "code",
      "metadata": {
        "colab": {
          "base_uri": "https://localhost:8080/"
        },
        "id": "MfzK5SfWOnjH",
        "outputId": "8339fe3b-f99e-448a-d210-032052ffd1b1"
      },
      "source": [
        "for i in range(10, 60, 10):\n",
        "  print(i)"
      ],
      "execution_count": null,
      "outputs": [
        {
          "output_type": "stream",
          "name": "stdout",
          "text": [
            "10\n",
            "20\n",
            "30\n",
            "40\n",
            "50\n"
          ]
        }
      ]
    },
    {
      "cell_type": "code",
      "metadata": {
        "colab": {
          "base_uri": "https://localhost:8080/"
        },
        "id": "ROyuRIg6Q8Ys",
        "outputId": "66700d9d-5e39-417f-b3de-1b797db00866"
      },
      "source": [
        "new_age = []\n",
        "new_year = []\n",
        "\n",
        "\n",
        "for i in range(10, 60, 10):\n",
        "  new = age + i\n",
        "  new_age.append(new)\n",
        "  print (new_age)\n",
        "  new_y = year + i\n",
        "  new_year.append(new_y)\n",
        "  print(new_year)\n",
        "\n"
      ],
      "execution_count": null,
      "outputs": [
        {
          "output_type": "stream",
          "name": "stdout",
          "text": [
            "[48]\n",
            "[2031]\n",
            "[48, 58]\n",
            "[2031, 2041]\n",
            "[48, 58, 68]\n",
            "[2031, 2041, 2051]\n",
            "[48, 58, 68, 78]\n",
            "[2031, 2041, 2051, 2061]\n",
            "[48, 58, 68, 78, 88]\n",
            "[2031, 2041, 2051, 2061, 2071]\n"
          ]
        }
      ]
    },
    {
      "cell_type": "code",
      "metadata": {
        "colab": {
          "base_uri": "https://localhost:8080/"
        },
        "id": "VzJYLXOeTwJI",
        "outputId": "b430d08f-d7eb-46f2-fb1d-7e090951dc4f"
      },
      "source": [
        "new_year"
      ],
      "execution_count": null,
      "outputs": [
        {
          "output_type": "execute_result",
          "data": {
            "text/plain": [
              "[2031, 2041, 2051, 2061, 2071]"
            ]
          },
          "metadata": {},
          "execution_count": 98
        }
      ]
    },
    {
      "cell_type": "code",
      "metadata": {
        "colab": {
          "base_uri": "https://localhost:8080/"
        },
        "id": "U6Ns93haUqqy",
        "outputId": "48945afc-87f9-40f2-8c61-349587bfc02f"
      },
      "source": [
        "new_age"
      ],
      "execution_count": null,
      "outputs": [
        {
          "output_type": "execute_result",
          "data": {
            "text/plain": [
              "[48, 58, 68, 78, 88]"
            ]
          },
          "metadata": {},
          "execution_count": 99
        }
      ]
    },
    {
      "cell_type": "code",
      "metadata": {
        "colab": {
          "base_uri": "https://localhost:8080/"
        },
        "id": "WhVmSkpIbndD",
        "outputId": "6926cf31-e371-4159-bbc7-042217f3ba64"
      },
      "source": [
        "len(new_age)"
      ],
      "execution_count": null,
      "outputs": [
        {
          "output_type": "execute_result",
          "data": {
            "text/plain": [
              "5"
            ]
          },
          "metadata": {},
          "execution_count": 100
        }
      ]
    },
    {
      "cell_type": "code",
      "metadata": {
        "colab": {
          "base_uri": "https://localhost:8080/"
        },
        "id": "T-DlvEQPUzym",
        "outputId": "659fca17-eb1b-4fcd-bfb4-012b9cf93050"
      },
      "source": [
        "for i in range(len(new_age)):\n",
        " a = new_age[i]\n",
        " b = new_year[i]\n",
        " print (a, b)"
      ],
      "execution_count": null,
      "outputs": [
        {
          "output_type": "stream",
          "name": "stdout",
          "text": [
            "48 2031\n",
            "58 2041\n",
            "68 2051\n",
            "78 2061\n",
            "88 2071\n"
          ]
        }
      ]
    },
    {
      "cell_type": "code",
      "metadata": {
        "id": "vqtrhT1_fKPr"
      },
      "source": [
        ""
      ],
      "execution_count": null,
      "outputs": []
    }
  ]
}