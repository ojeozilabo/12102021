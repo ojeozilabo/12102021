{
 "cells": [
  {
   "cell_type": "code",
   "execution_count": 2,
   "metadata": {},
   "outputs": [
    {
     "name": "stdout",
     "output_type": "stream",
     "text": [
      "this album is Amazing !\n"
     ]
    }
   ],
   "source": [
    "album_rating = 8.5\n",
    "if album_rating > 8:\n",
    "    print(\"this album is Amazing !\")"
   ]
  },
  {
   "cell_type": "code",
   "execution_count": 3,
   "metadata": {},
   "outputs": [
    {
     "name": "stdout",
     "output_type": "stream",
     "text": [
      "this album is ok\n"
     ]
    }
   ],
   "source": [
    "album_rating = 7.5\n",
    "if album_rating > 8:\n",
    "    print(\"this album is Amazing !\")\n",
    "else:\n",
    "    print(\"this album is ok\")"
   ]
  },
  {
   "cell_type": "code",
   "execution_count": 4,
   "metadata": {},
   "outputs": [
    {
     "name": "stdout",
     "output_type": "stream",
     "text": [
      "Correct\n"
     ]
    }
   ],
   "source": [
    "def  f(a, b):\n",
    "    return a * b\n",
    "a = 4\n",
    "b = 2\n",
    "if a * b == f(a, b):\n",
    "    print(\"Correct\")\n",
    "else:\n",
    "    print(\"Incorrect\")"
   ]
  },
  {
   "cell_type": "code",
   "execution_count": 1,
   "metadata": {},
   "outputs": [
    {
     "name": "stdout",
     "output_type": "stream",
     "text": [
      "15\n",
      "Incorrect.\n"
     ]
    }
   ],
   "source": [
    "\n",
    "def g(c):\n",
    "    print(sum(c))\n",
    "c = [1, 2, 3, 4, 5]\n",
    "if sum(c) == g(c):\n",
    "    print(\"Correct.\")\n",
    "else:\n",
    "    print(\"Incorrect.\")\n"
   ]
  }
 ],
 "metadata": {
  "interpreter": {
   "hash": "019b82276dd3b2a39eb06d8e3f52a335a6065605fc9736d390dd06ae4f391b8e"
  },
  "kernelspec": {
   "display_name": "Python 3.8.2 64-bit ('env': venv)",
   "name": "python3"
  },
  "language_info": {
   "codemirror_mode": {
    "name": "ipython",
    "version": 3
   },
   "file_extension": ".py",
   "mimetype": "text/x-python",
   "name": "python",
   "nbconvert_exporter": "python",
   "pygments_lexer": "ipython3",
   "version": "3.8.2"
  },
  "orig_nbformat": 4
 },
 "nbformat": 4,
 "nbformat_minor": 2
}
